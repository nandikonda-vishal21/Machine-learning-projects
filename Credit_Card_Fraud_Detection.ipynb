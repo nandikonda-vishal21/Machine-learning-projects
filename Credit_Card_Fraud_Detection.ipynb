{
  "nbformat": 4,
  "nbformat_minor": 0,
  "metadata": {
    "colab": {
      "name": "Credit Card Fraud Detection.ipynb",
      "provenance": [],
      "authorship_tag": "ABX9TyNdFnPWiCj/J3hfmKVXYLtb",
      "include_colab_link": true
    },
    "kernelspec": {
      "name": "python3",
      "display_name": "Python 3"
    },
    "language_info": {
      "name": "python"
    }
  },
  "cells": [
    {
      "cell_type": "markdown",
      "metadata": {
        "id": "view-in-github",
        "colab_type": "text"
      },
      "source": [
        "<a href=\"https://colab.research.google.com/github/nandikonda-vishal21/Machine-learning-projects/blob/main/Credit_Card_Fraud_Detection.ipynb\" target=\"_parent\"><img src=\"https://colab.research.google.com/assets/colab-badge.svg\" alt=\"Open In Colab\"/></a>"
      ]
    },
    {
      "cell_type": "markdown",
      "metadata": {
        "id": "wOrV_BMBZ8J5"
      },
      "source": [
        "Importing the Dependencies"
      ]
    },
    {
      "cell_type": "code",
      "metadata": {
        "id": "wgYplBmBZX3G"
      },
      "source": [
        "import numpy as np\n",
        "import pandas as pd\n",
        "from sklearn.model_selection import train_test_split\n",
        "from sklearn.linear_model import LogisticRegression\n",
        "from sklearn.metrics import accuracy_score"
      ],
      "execution_count": 1,
      "outputs": []
    },
    {
      "cell_type": "code",
      "metadata": {
        "id": "ASZVJpnuaEQT"
      },
      "source": [
        "# loading the dataset to a Pandas DataFrame\n",
        "credit_card_data = pd.read_csv('/content/creditcard.csv')"
      ],
      "execution_count": 2,
      "outputs": []
    },
    {
      "cell_type": "code",
      "metadata": {
        "colab": {
          "base_uri": "https://localhost:8080/",
          "height": 223
        },
        "id": "j3ApTGnFaMd8",
        "outputId": "3103ed76-0a6c-40f3-9d98-84bb2ad4c284"
      },
      "source": [
        "# first 5 rows of the dataset\n",
        "credit_card_data.head()"
      ],
      "execution_count": 3,
      "outputs": [
        {
          "output_type": "execute_result",
          "data": {
            "text/html": [
              "<div>\n",
              "<style scoped>\n",
              "    .dataframe tbody tr th:only-of-type {\n",
              "        vertical-align: middle;\n",
              "    }\n",
              "\n",
              "    .dataframe tbody tr th {\n",
              "        vertical-align: top;\n",
              "    }\n",
              "\n",
              "    .dataframe thead th {\n",
              "        text-align: right;\n",
              "    }\n",
              "</style>\n",
              "<table border=\"1\" class=\"dataframe\">\n",
              "  <thead>\n",
              "    <tr style=\"text-align: right;\">\n",
              "      <th></th>\n",
              "      <th>Time</th>\n",
              "      <th>V1</th>\n",
              "      <th>V2</th>\n",
              "      <th>V3</th>\n",
              "      <th>V4</th>\n",
              "      <th>V5</th>\n",
              "      <th>V6</th>\n",
              "      <th>V7</th>\n",
              "      <th>V8</th>\n",
              "      <th>V9</th>\n",
              "      <th>V10</th>\n",
              "      <th>V11</th>\n",
              "      <th>V12</th>\n",
              "      <th>V13</th>\n",
              "      <th>V14</th>\n",
              "      <th>V15</th>\n",
              "      <th>V16</th>\n",
              "      <th>V17</th>\n",
              "      <th>V18</th>\n",
              "      <th>V19</th>\n",
              "      <th>V20</th>\n",
              "      <th>V21</th>\n",
              "      <th>V22</th>\n",
              "      <th>V23</th>\n",
              "      <th>V24</th>\n",
              "      <th>V25</th>\n",
              "      <th>V26</th>\n",
              "      <th>V27</th>\n",
              "      <th>V28</th>\n",
              "      <th>Amount</th>\n",
              "      <th>Class</th>\n",
              "    </tr>\n",
              "  </thead>\n",
              "  <tbody>\n",
              "    <tr>\n",
              "      <th>0</th>\n",
              "      <td>0</td>\n",
              "      <td>-1.359807</td>\n",
              "      <td>-0.072781</td>\n",
              "      <td>2.536347</td>\n",
              "      <td>1.378155</td>\n",
              "      <td>-0.338321</td>\n",
              "      <td>0.462388</td>\n",
              "      <td>0.239599</td>\n",
              "      <td>0.098698</td>\n",
              "      <td>0.363787</td>\n",
              "      <td>0.090794</td>\n",
              "      <td>-0.551600</td>\n",
              "      <td>-0.617801</td>\n",
              "      <td>-0.991390</td>\n",
              "      <td>-0.311169</td>\n",
              "      <td>1.468177</td>\n",
              "      <td>-0.470401</td>\n",
              "      <td>0.207971</td>\n",
              "      <td>0.025791</td>\n",
              "      <td>0.403993</td>\n",
              "      <td>0.251412</td>\n",
              "      <td>-0.018307</td>\n",
              "      <td>0.277838</td>\n",
              "      <td>-0.110474</td>\n",
              "      <td>0.066928</td>\n",
              "      <td>0.128539</td>\n",
              "      <td>-0.189115</td>\n",
              "      <td>0.133558</td>\n",
              "      <td>-0.021053</td>\n",
              "      <td>149.62</td>\n",
              "      <td>0.0</td>\n",
              "    </tr>\n",
              "    <tr>\n",
              "      <th>1</th>\n",
              "      <td>0</td>\n",
              "      <td>1.191857</td>\n",
              "      <td>0.266151</td>\n",
              "      <td>0.166480</td>\n",
              "      <td>0.448154</td>\n",
              "      <td>0.060018</td>\n",
              "      <td>-0.082361</td>\n",
              "      <td>-0.078803</td>\n",
              "      <td>0.085102</td>\n",
              "      <td>-0.255425</td>\n",
              "      <td>-0.166974</td>\n",
              "      <td>1.612727</td>\n",
              "      <td>1.065235</td>\n",
              "      <td>0.489095</td>\n",
              "      <td>-0.143772</td>\n",
              "      <td>0.635558</td>\n",
              "      <td>0.463917</td>\n",
              "      <td>-0.114805</td>\n",
              "      <td>-0.183361</td>\n",
              "      <td>-0.145783</td>\n",
              "      <td>-0.069083</td>\n",
              "      <td>-0.225775</td>\n",
              "      <td>-0.638672</td>\n",
              "      <td>0.101288</td>\n",
              "      <td>-0.339846</td>\n",
              "      <td>0.167170</td>\n",
              "      <td>0.125895</td>\n",
              "      <td>-0.008983</td>\n",
              "      <td>0.014724</td>\n",
              "      <td>2.69</td>\n",
              "      <td>0.0</td>\n",
              "    </tr>\n",
              "    <tr>\n",
              "      <th>2</th>\n",
              "      <td>1</td>\n",
              "      <td>-1.358354</td>\n",
              "      <td>-1.340163</td>\n",
              "      <td>1.773209</td>\n",
              "      <td>0.379780</td>\n",
              "      <td>-0.503198</td>\n",
              "      <td>1.800499</td>\n",
              "      <td>0.791461</td>\n",
              "      <td>0.247676</td>\n",
              "      <td>-1.514654</td>\n",
              "      <td>0.207643</td>\n",
              "      <td>0.624501</td>\n",
              "      <td>0.066084</td>\n",
              "      <td>0.717293</td>\n",
              "      <td>-0.165946</td>\n",
              "      <td>2.345865</td>\n",
              "      <td>-2.890083</td>\n",
              "      <td>1.109969</td>\n",
              "      <td>-0.121359</td>\n",
              "      <td>-2.261857</td>\n",
              "      <td>0.524980</td>\n",
              "      <td>0.247998</td>\n",
              "      <td>0.771679</td>\n",
              "      <td>0.909412</td>\n",
              "      <td>-0.689281</td>\n",
              "      <td>-0.327642</td>\n",
              "      <td>-0.139097</td>\n",
              "      <td>-0.055353</td>\n",
              "      <td>-0.059752</td>\n",
              "      <td>378.66</td>\n",
              "      <td>0.0</td>\n",
              "    </tr>\n",
              "    <tr>\n",
              "      <th>3</th>\n",
              "      <td>1</td>\n",
              "      <td>-0.966272</td>\n",
              "      <td>-0.185226</td>\n",
              "      <td>1.792993</td>\n",
              "      <td>-0.863291</td>\n",
              "      <td>-0.010309</td>\n",
              "      <td>1.247203</td>\n",
              "      <td>0.237609</td>\n",
              "      <td>0.377436</td>\n",
              "      <td>-1.387024</td>\n",
              "      <td>-0.054952</td>\n",
              "      <td>-0.226487</td>\n",
              "      <td>0.178228</td>\n",
              "      <td>0.507757</td>\n",
              "      <td>-0.287924</td>\n",
              "      <td>-0.631418</td>\n",
              "      <td>-1.059647</td>\n",
              "      <td>-0.684093</td>\n",
              "      <td>1.965775</td>\n",
              "      <td>-1.232622</td>\n",
              "      <td>-0.208038</td>\n",
              "      <td>-0.108300</td>\n",
              "      <td>0.005274</td>\n",
              "      <td>-0.190321</td>\n",
              "      <td>-1.175575</td>\n",
              "      <td>0.647376</td>\n",
              "      <td>-0.221929</td>\n",
              "      <td>0.062723</td>\n",
              "      <td>0.061458</td>\n",
              "      <td>123.50</td>\n",
              "      <td>0.0</td>\n",
              "    </tr>\n",
              "    <tr>\n",
              "      <th>4</th>\n",
              "      <td>2</td>\n",
              "      <td>-1.158233</td>\n",
              "      <td>0.877737</td>\n",
              "      <td>1.548718</td>\n",
              "      <td>0.403034</td>\n",
              "      <td>-0.407193</td>\n",
              "      <td>0.095921</td>\n",
              "      <td>0.592941</td>\n",
              "      <td>-0.270533</td>\n",
              "      <td>0.817739</td>\n",
              "      <td>0.753074</td>\n",
              "      <td>-0.822843</td>\n",
              "      <td>0.538196</td>\n",
              "      <td>1.345852</td>\n",
              "      <td>-1.119670</td>\n",
              "      <td>0.175121</td>\n",
              "      <td>-0.451449</td>\n",
              "      <td>-0.237033</td>\n",
              "      <td>-0.038195</td>\n",
              "      <td>0.803487</td>\n",
              "      <td>0.408542</td>\n",
              "      <td>-0.009431</td>\n",
              "      <td>0.798278</td>\n",
              "      <td>-0.137458</td>\n",
              "      <td>0.141267</td>\n",
              "      <td>-0.206010</td>\n",
              "      <td>0.502292</td>\n",
              "      <td>0.219422</td>\n",
              "      <td>0.215153</td>\n",
              "      <td>69.99</td>\n",
              "      <td>0.0</td>\n",
              "    </tr>\n",
              "  </tbody>\n",
              "</table>\n",
              "</div>"
            ],
            "text/plain": [
              "   Time        V1        V2        V3  ...       V27       V28  Amount  Class\n",
              "0     0 -1.359807 -0.072781  2.536347  ...  0.133558 -0.021053  149.62    0.0\n",
              "1     0  1.191857  0.266151  0.166480  ... -0.008983  0.014724    2.69    0.0\n",
              "2     1 -1.358354 -1.340163  1.773209  ... -0.055353 -0.059752  378.66    0.0\n",
              "3     1 -0.966272 -0.185226  1.792993  ...  0.062723  0.061458  123.50    0.0\n",
              "4     2 -1.158233  0.877737  1.548718  ...  0.219422  0.215153   69.99    0.0\n",
              "\n",
              "[5 rows x 31 columns]"
            ]
          },
          "metadata": {},
          "execution_count": 3
        }
      ]
    },
    {
      "cell_type": "code",
      "metadata": {
        "colab": {
          "base_uri": "https://localhost:8080/",
          "height": 223
        },
        "id": "WbwIMWBbaQm4",
        "outputId": "3226f724-30b1-4ad8-94a0-f10e7fd40f27"
      },
      "source": [
        "credit_card_data.tail()"
      ],
      "execution_count": 4,
      "outputs": [
        {
          "output_type": "execute_result",
          "data": {
            "text/html": [
              "<div>\n",
              "<style scoped>\n",
              "    .dataframe tbody tr th:only-of-type {\n",
              "        vertical-align: middle;\n",
              "    }\n",
              "\n",
              "    .dataframe tbody tr th {\n",
              "        vertical-align: top;\n",
              "    }\n",
              "\n",
              "    .dataframe thead th {\n",
              "        text-align: right;\n",
              "    }\n",
              "</style>\n",
              "<table border=\"1\" class=\"dataframe\">\n",
              "  <thead>\n",
              "    <tr style=\"text-align: right;\">\n",
              "      <th></th>\n",
              "      <th>Time</th>\n",
              "      <th>V1</th>\n",
              "      <th>V2</th>\n",
              "      <th>V3</th>\n",
              "      <th>V4</th>\n",
              "      <th>V5</th>\n",
              "      <th>V6</th>\n",
              "      <th>V7</th>\n",
              "      <th>V8</th>\n",
              "      <th>V9</th>\n",
              "      <th>V10</th>\n",
              "      <th>V11</th>\n",
              "      <th>V12</th>\n",
              "      <th>V13</th>\n",
              "      <th>V14</th>\n",
              "      <th>V15</th>\n",
              "      <th>V16</th>\n",
              "      <th>V17</th>\n",
              "      <th>V18</th>\n",
              "      <th>V19</th>\n",
              "      <th>V20</th>\n",
              "      <th>V21</th>\n",
              "      <th>V22</th>\n",
              "      <th>V23</th>\n",
              "      <th>V24</th>\n",
              "      <th>V25</th>\n",
              "      <th>V26</th>\n",
              "      <th>V27</th>\n",
              "      <th>V28</th>\n",
              "      <th>Amount</th>\n",
              "      <th>Class</th>\n",
              "    </tr>\n",
              "  </thead>\n",
              "  <tbody>\n",
              "    <tr>\n",
              "      <th>17913</th>\n",
              "      <td>29027</td>\n",
              "      <td>-0.422159</td>\n",
              "      <td>0.231118</td>\n",
              "      <td>1.666711</td>\n",
              "      <td>0.451976</td>\n",
              "      <td>-0.203598</td>\n",
              "      <td>0.097244</td>\n",
              "      <td>-0.039666</td>\n",
              "      <td>0.354218</td>\n",
              "      <td>0.062463</td>\n",
              "      <td>-0.267672</td>\n",
              "      <td>0.909700</td>\n",
              "      <td>-0.078854</td>\n",
              "      <td>-2.186030</td>\n",
              "      <td>0.421409</td>\n",
              "      <td>-0.291018</td>\n",
              "      <td>-0.948596</td>\n",
              "      <td>0.715232</td>\n",
              "      <td>-0.080037</td>\n",
              "      <td>1.303620</td>\n",
              "      <td>-0.035462</td>\n",
              "      <td>0.110909</td>\n",
              "      <td>0.435121</td>\n",
              "      <td>-0.056658</td>\n",
              "      <td>0.265867</td>\n",
              "      <td>-0.548204</td>\n",
              "      <td>0.734013</td>\n",
              "      <td>0.117023</td>\n",
              "      <td>0.130972</td>\n",
              "      <td>9.00</td>\n",
              "      <td>0.0</td>\n",
              "    </tr>\n",
              "    <tr>\n",
              "      <th>17914</th>\n",
              "      <td>29030</td>\n",
              "      <td>1.177387</td>\n",
              "      <td>-0.215585</td>\n",
              "      <td>0.202972</td>\n",
              "      <td>0.215323</td>\n",
              "      <td>-0.029312</td>\n",
              "      <td>0.601788</td>\n",
              "      <td>-0.297021</td>\n",
              "      <td>0.188082</td>\n",
              "      <td>0.436370</td>\n",
              "      <td>-0.199326</td>\n",
              "      <td>0.515916</td>\n",
              "      <td>1.246514</td>\n",
              "      <td>0.457754</td>\n",
              "      <td>-0.118306</td>\n",
              "      <td>-0.778808</td>\n",
              "      <td>-0.268287</td>\n",
              "      <td>-0.163576</td>\n",
              "      <td>-0.353358</td>\n",
              "      <td>0.553504</td>\n",
              "      <td>-0.035901</td>\n",
              "      <td>-0.055842</td>\n",
              "      <td>0.075903</td>\n",
              "      <td>-0.187120</td>\n",
              "      <td>-0.717798</td>\n",
              "      <td>0.555294</td>\n",
              "      <td>0.731531</td>\n",
              "      <td>-0.022112</td>\n",
              "      <td>-0.010929</td>\n",
              "      <td>25.00</td>\n",
              "      <td>0.0</td>\n",
              "    </tr>\n",
              "    <tr>\n",
              "      <th>17915</th>\n",
              "      <td>29030</td>\n",
              "      <td>-0.553746</td>\n",
              "      <td>0.880858</td>\n",
              "      <td>1.644821</td>\n",
              "      <td>-0.132657</td>\n",
              "      <td>0.120940</td>\n",
              "      <td>-0.267411</td>\n",
              "      <td>0.466892</td>\n",
              "      <td>0.222443</td>\n",
              "      <td>-0.639624</td>\n",
              "      <td>-0.174843</td>\n",
              "      <td>1.671591</td>\n",
              "      <td>0.700839</td>\n",
              "      <td>-0.287896</td>\n",
              "      <td>0.417781</td>\n",
              "      <td>0.406584</td>\n",
              "      <td>0.049476</td>\n",
              "      <td>-0.279782</td>\n",
              "      <td>-0.349309</td>\n",
              "      <td>-0.129659</td>\n",
              "      <td>0.070172</td>\n",
              "      <td>-0.133339</td>\n",
              "      <td>-0.348662</td>\n",
              "      <td>0.029947</td>\n",
              "      <td>0.199962</td>\n",
              "      <td>-0.328384</td>\n",
              "      <td>0.071511</td>\n",
              "      <td>0.275487</td>\n",
              "      <td>0.110195</td>\n",
              "      <td>0.89</td>\n",
              "      <td>0.0</td>\n",
              "    </tr>\n",
              "    <tr>\n",
              "      <th>17916</th>\n",
              "      <td>29030</td>\n",
              "      <td>-2.844632</td>\n",
              "      <td>3.717960</td>\n",
              "      <td>-7.165428</td>\n",
              "      <td>4.120419</td>\n",
              "      <td>-2.991039</td>\n",
              "      <td>-2.942326</td>\n",
              "      <td>-4.925187</td>\n",
              "      <td>2.204337</td>\n",
              "      <td>-2.663613</td>\n",
              "      <td>-6.888367</td>\n",
              "      <td>4.027447</td>\n",
              "      <td>-8.030026</td>\n",
              "      <td>-1.340344</td>\n",
              "      <td>-9.756963</td>\n",
              "      <td>1.055533</td>\n",
              "      <td>-5.381310</td>\n",
              "      <td>-8.745070</td>\n",
              "      <td>-2.733419</td>\n",
              "      <td>0.983641</td>\n",
              "      <td>0.800709</td>\n",
              "      <td>0.894495</td>\n",
              "      <td>-0.340246</td>\n",
              "      <td>0.012222</td>\n",
              "      <td>-0.059679</td>\n",
              "      <td>-0.104338</td>\n",
              "      <td>-0.295884</td>\n",
              "      <td>1.326228</td>\n",
              "      <td>0.322688</td>\n",
              "      <td>89.99</td>\n",
              "      <td>0.0</td>\n",
              "    </tr>\n",
              "    <tr>\n",
              "      <th>17917</th>\n",
              "      <td>29031</td>\n",
              "      <td>1.050204</td>\n",
              "      <td>0.078269</td>\n",
              "      <td>0.484733</td>\n",
              "      <td>1.349623</td>\n",
              "      <td>NaN</td>\n",
              "      <td>NaN</td>\n",
              "      <td>NaN</td>\n",
              "      <td>NaN</td>\n",
              "      <td>NaN</td>\n",
              "      <td>NaN</td>\n",
              "      <td>NaN</td>\n",
              "      <td>NaN</td>\n",
              "      <td>NaN</td>\n",
              "      <td>NaN</td>\n",
              "      <td>NaN</td>\n",
              "      <td>NaN</td>\n",
              "      <td>NaN</td>\n",
              "      <td>NaN</td>\n",
              "      <td>NaN</td>\n",
              "      <td>NaN</td>\n",
              "      <td>NaN</td>\n",
              "      <td>NaN</td>\n",
              "      <td>NaN</td>\n",
              "      <td>NaN</td>\n",
              "      <td>NaN</td>\n",
              "      <td>NaN</td>\n",
              "      <td>NaN</td>\n",
              "      <td>NaN</td>\n",
              "      <td>NaN</td>\n",
              "      <td>NaN</td>\n",
              "    </tr>\n",
              "  </tbody>\n",
              "</table>\n",
              "</div>"
            ],
            "text/plain": [
              "        Time        V1        V2        V3  ...       V27       V28  Amount  Class\n",
              "17913  29027 -0.422159  0.231118  1.666711  ...  0.117023  0.130972    9.00    0.0\n",
              "17914  29030  1.177387 -0.215585  0.202972  ... -0.022112 -0.010929   25.00    0.0\n",
              "17915  29030 -0.553746  0.880858  1.644821  ...  0.275487  0.110195    0.89    0.0\n",
              "17916  29030 -2.844632  3.717960 -7.165428  ...  1.326228  0.322688   89.99    0.0\n",
              "17917  29031  1.050204  0.078269  0.484733  ...       NaN       NaN     NaN    NaN\n",
              "\n",
              "[5 rows x 31 columns]"
            ]
          },
          "metadata": {},
          "execution_count": 4
        }
      ]
    },
    {
      "cell_type": "code",
      "metadata": {
        "colab": {
          "base_uri": "https://localhost:8080/"
        },
        "id": "-EVDL6EwaU83",
        "outputId": "7ffee5ba-8964-4945-f176-b627873d80c1"
      },
      "source": [
        "# dataset informations\n",
        "credit_card_data.info()"
      ],
      "execution_count": 5,
      "outputs": [
        {
          "output_type": "stream",
          "name": "stdout",
          "text": [
            "<class 'pandas.core.frame.DataFrame'>\n",
            "RangeIndex: 17918 entries, 0 to 17917\n",
            "Data columns (total 31 columns):\n",
            " #   Column  Non-Null Count  Dtype  \n",
            "---  ------  --------------  -----  \n",
            " 0   Time    17918 non-null  int64  \n",
            " 1   V1      17918 non-null  float64\n",
            " 2   V2      17918 non-null  float64\n",
            " 3   V3      17918 non-null  float64\n",
            " 4   V4      17918 non-null  float64\n",
            " 5   V5      17917 non-null  float64\n",
            " 6   V6      17917 non-null  float64\n",
            " 7   V7      17917 non-null  float64\n",
            " 8   V8      17917 non-null  float64\n",
            " 9   V9      17917 non-null  float64\n",
            " 10  V10     17917 non-null  float64\n",
            " 11  V11     17917 non-null  float64\n",
            " 12  V12     17917 non-null  float64\n",
            " 13  V13     17917 non-null  float64\n",
            " 14  V14     17917 non-null  float64\n",
            " 15  V15     17917 non-null  float64\n",
            " 16  V16     17917 non-null  float64\n",
            " 17  V17     17917 non-null  float64\n",
            " 18  V18     17917 non-null  float64\n",
            " 19  V19     17917 non-null  float64\n",
            " 20  V20     17917 non-null  float64\n",
            " 21  V21     17917 non-null  float64\n",
            " 22  V22     17917 non-null  float64\n",
            " 23  V23     17917 non-null  float64\n",
            " 24  V24     17917 non-null  float64\n",
            " 25  V25     17917 non-null  float64\n",
            " 26  V26     17917 non-null  float64\n",
            " 27  V27     17917 non-null  float64\n",
            " 28  V28     17917 non-null  float64\n",
            " 29  Amount  17917 non-null  float64\n",
            " 30  Class   17917 non-null  float64\n",
            "dtypes: float64(30), int64(1)\n",
            "memory usage: 4.2 MB\n"
          ]
        }
      ]
    },
    {
      "cell_type": "code",
      "metadata": {
        "colab": {
          "base_uri": "https://localhost:8080/"
        },
        "id": "Oqo-X-0taas5",
        "outputId": "e09af1ed-43b2-439b-c4a0-bca0993858bb"
      },
      "source": [
        "# checking the number of missing values in each column\n",
        "credit_card_data.isnull().sum()"
      ],
      "execution_count": 6,
      "outputs": [
        {
          "output_type": "execute_result",
          "data": {
            "text/plain": [
              "Time      0\n",
              "V1        0\n",
              "V2        0\n",
              "V3        0\n",
              "V4        0\n",
              "V5        1\n",
              "V6        1\n",
              "V7        1\n",
              "V8        1\n",
              "V9        1\n",
              "V10       1\n",
              "V11       1\n",
              "V12       1\n",
              "V13       1\n",
              "V14       1\n",
              "V15       1\n",
              "V16       1\n",
              "V17       1\n",
              "V18       1\n",
              "V19       1\n",
              "V20       1\n",
              "V21       1\n",
              "V22       1\n",
              "V23       1\n",
              "V24       1\n",
              "V25       1\n",
              "V26       1\n",
              "V27       1\n",
              "V28       1\n",
              "Amount    1\n",
              "Class     1\n",
              "dtype: int64"
            ]
          },
          "metadata": {},
          "execution_count": 6
        }
      ]
    },
    {
      "cell_type": "code",
      "metadata": {
        "colab": {
          "base_uri": "https://localhost:8080/"
        },
        "id": "vStwnynMavC3",
        "outputId": "36070c1f-72a6-4ed6-8098-ebb45a712bf5"
      },
      "source": [
        "# distribution of legit transactions & fraudulent transactions\n",
        "credit_card_data['Class'].value_counts()"
      ],
      "execution_count": 7,
      "outputs": [
        {
          "output_type": "execute_result",
          "data": {
            "text/plain": [
              "0.0    17836\n",
              "1.0       81\n",
              "Name: Class, dtype: int64"
            ]
          },
          "metadata": {},
          "execution_count": 7
        }
      ]
    },
    {
      "cell_type": "markdown",
      "metadata": {
        "id": "UV38tH5XazkV"
      },
      "source": [
        "This Dataset is highly unblanced\n",
        "\n",
        "0 --> Normal Transaction\n",
        "\n",
        "1 --> fraudulent transaction"
      ]
    },
    {
      "cell_type": "code",
      "metadata": {
        "id": "Fbe4XrpIa0w5"
      },
      "source": [
        "# separating the data for analysis\n",
        "legit = credit_card_data[credit_card_data.Class == 0]\n",
        "fraud = credit_card_data[credit_card_data.Class == 1]"
      ],
      "execution_count": 9,
      "outputs": []
    },
    {
      "cell_type": "code",
      "metadata": {
        "colab": {
          "base_uri": "https://localhost:8080/"
        },
        "id": "ey4xKcfWa3ie",
        "outputId": "9e2c5dc5-138d-4942-ea11-3eab60d18605"
      },
      "source": [
        "print(legit.shape)\n",
        "print(fraud.shape)"
      ],
      "execution_count": 10,
      "outputs": [
        {
          "output_type": "stream",
          "name": "stdout",
          "text": [
            "(17836, 31)\n",
            "(81, 31)\n"
          ]
        }
      ]
    },
    {
      "cell_type": "code",
      "metadata": {
        "colab": {
          "base_uri": "https://localhost:8080/"
        },
        "id": "Pwhn35nHbgNb",
        "outputId": "84775e68-e104-4338-9e46-613048c6fd86"
      },
      "source": [
        "# statistical measures of the data\n",
        "legit.Amount.describe()"
      ],
      "execution_count": 11,
      "outputs": [
        {
          "output_type": "execute_result",
          "data": {
            "text/plain": [
              "count    17836.000000\n",
              "mean        67.365025\n",
              "std        188.754429\n",
              "min          0.000000\n",
              "25%          5.490000\n",
              "50%         15.950000\n",
              "75%         56.232500\n",
              "max       7712.430000\n",
              "Name: Amount, dtype: float64"
            ]
          },
          "metadata": {},
          "execution_count": 11
        }
      ]
    },
    {
      "cell_type": "code",
      "metadata": {
        "colab": {
          "base_uri": "https://localhost:8080/"
        },
        "id": "m5kPbDm7blKA",
        "outputId": "bc8035f6-229a-48a9-f512-5c5c01273b72"
      },
      "source": [
        "fraud.Amount.describe()"
      ],
      "execution_count": 12,
      "outputs": [
        {
          "output_type": "execute_result",
          "data": {
            "text/plain": [
              "count      81.000000\n",
              "mean       98.105926\n",
              "std       267.464067\n",
              "min         0.000000\n",
              "25%         1.000000\n",
              "50%         1.000000\n",
              "75%        99.990000\n",
              "max      1809.680000\n",
              "Name: Amount, dtype: float64"
            ]
          },
          "metadata": {},
          "execution_count": 12
        }
      ]
    },
    {
      "cell_type": "code",
      "metadata": {
        "colab": {
          "base_uri": "https://localhost:8080/",
          "height": 162
        },
        "id": "-3laTpzlbuOX",
        "outputId": "4485fb4f-6f92-47e2-cb2e-32bc1f0b2722"
      },
      "source": [
        "# compare the values for both transactions\n",
        "credit_card_data.groupby('Class').mean()"
      ],
      "execution_count": 13,
      "outputs": [
        {
          "output_type": "execute_result",
          "data": {
            "text/html": [
              "<div>\n",
              "<style scoped>\n",
              "    .dataframe tbody tr th:only-of-type {\n",
              "        vertical-align: middle;\n",
              "    }\n",
              "\n",
              "    .dataframe tbody tr th {\n",
              "        vertical-align: top;\n",
              "    }\n",
              "\n",
              "    .dataframe thead th {\n",
              "        text-align: right;\n",
              "    }\n",
              "</style>\n",
              "<table border=\"1\" class=\"dataframe\">\n",
              "  <thead>\n",
              "    <tr style=\"text-align: right;\">\n",
              "      <th></th>\n",
              "      <th>Time</th>\n",
              "      <th>V1</th>\n",
              "      <th>V2</th>\n",
              "      <th>V3</th>\n",
              "      <th>V4</th>\n",
              "      <th>V5</th>\n",
              "      <th>V6</th>\n",
              "      <th>V7</th>\n",
              "      <th>V8</th>\n",
              "      <th>V9</th>\n",
              "      <th>V10</th>\n",
              "      <th>V11</th>\n",
              "      <th>V12</th>\n",
              "      <th>V13</th>\n",
              "      <th>V14</th>\n",
              "      <th>V15</th>\n",
              "      <th>V16</th>\n",
              "      <th>V17</th>\n",
              "      <th>V18</th>\n",
              "      <th>V19</th>\n",
              "      <th>V20</th>\n",
              "      <th>V21</th>\n",
              "      <th>V22</th>\n",
              "      <th>V23</th>\n",
              "      <th>V24</th>\n",
              "      <th>V25</th>\n",
              "      <th>V26</th>\n",
              "      <th>V27</th>\n",
              "      <th>V28</th>\n",
              "      <th>Amount</th>\n",
              "    </tr>\n",
              "    <tr>\n",
              "      <th>Class</th>\n",
              "      <th></th>\n",
              "      <th></th>\n",
              "      <th></th>\n",
              "      <th></th>\n",
              "      <th></th>\n",
              "      <th></th>\n",
              "      <th></th>\n",
              "      <th></th>\n",
              "      <th></th>\n",
              "      <th></th>\n",
              "      <th></th>\n",
              "      <th></th>\n",
              "      <th></th>\n",
              "      <th></th>\n",
              "      <th></th>\n",
              "      <th></th>\n",
              "      <th></th>\n",
              "      <th></th>\n",
              "      <th></th>\n",
              "      <th></th>\n",
              "      <th></th>\n",
              "      <th></th>\n",
              "      <th></th>\n",
              "      <th></th>\n",
              "      <th></th>\n",
              "      <th></th>\n",
              "      <th></th>\n",
              "      <th></th>\n",
              "      <th></th>\n",
              "      <th></th>\n",
              "    </tr>\n",
              "  </thead>\n",
              "  <tbody>\n",
              "    <tr>\n",
              "      <th>0.0</th>\n",
              "      <td>13891.131980</td>\n",
              "      <td>-0.203851</td>\n",
              "      <td>0.228560</td>\n",
              "      <td>0.840631</td>\n",
              "      <td>0.263581</td>\n",
              "      <td>-0.117213</td>\n",
              "      <td>0.112151</td>\n",
              "      <td>-0.110725</td>\n",
              "      <td>-0.008454</td>\n",
              "      <td>0.752065</td>\n",
              "      <td>-0.215358</td>\n",
              "      <td>0.712585</td>\n",
              "      <td>-1.186843</td>\n",
              "      <td>0.781491</td>\n",
              "      <td>0.672759</td>\n",
              "      <td>-0.082770</td>\n",
              "      <td>0.008721</td>\n",
              "      <td>0.354174</td>\n",
              "      <td>-0.026752</td>\n",
              "      <td>-0.073561</td>\n",
              "      <td>0.032646</td>\n",
              "      <td>-0.054930</td>\n",
              "      <td>-0.144997</td>\n",
              "      <td>-0.036871</td>\n",
              "      <td>0.015838</td>\n",
              "      <td>0.118904</td>\n",
              "      <td>0.035813</td>\n",
              "      <td>0.010352</td>\n",
              "      <td>0.006670</td>\n",
              "      <td>67.365025</td>\n",
              "    </tr>\n",
              "    <tr>\n",
              "      <th>1.0</th>\n",
              "      <td>16833.074074</td>\n",
              "      <td>-9.315066</td>\n",
              "      <td>6.779465</td>\n",
              "      <td>-13.052870</td>\n",
              "      <td>6.451318</td>\n",
              "      <td>-6.557541</td>\n",
              "      <td>-2.602613</td>\n",
              "      <td>-9.012856</td>\n",
              "      <td>4.730365</td>\n",
              "      <td>-3.087651</td>\n",
              "      <td>-7.499402</td>\n",
              "      <td>6.173253</td>\n",
              "      <td>-9.366936</td>\n",
              "      <td>0.530956</td>\n",
              "      <td>-8.907345</td>\n",
              "      <td>-0.187449</td>\n",
              "      <td>-5.282956</td>\n",
              "      <td>-8.522760</td>\n",
              "      <td>-3.021430</td>\n",
              "      <td>0.395198</td>\n",
              "      <td>0.756424</td>\n",
              "      <td>0.549752</td>\n",
              "      <td>-0.423495</td>\n",
              "      <td>-0.398104</td>\n",
              "      <td>-0.277836</td>\n",
              "      <td>0.355688</td>\n",
              "      <td>0.177616</td>\n",
              "      <td>0.940693</td>\n",
              "      <td>0.090007</td>\n",
              "      <td>98.105926</td>\n",
              "    </tr>\n",
              "  </tbody>\n",
              "</table>\n",
              "</div>"
            ],
            "text/plain": [
              "               Time        V1        V2  ...       V27       V28     Amount\n",
              "Class                                    ...                               \n",
              "0.0    13891.131980 -0.203851  0.228560  ...  0.010352  0.006670  67.365025\n",
              "1.0    16833.074074 -9.315066  6.779465  ...  0.940693  0.090007  98.105926\n",
              "\n",
              "[2 rows x 30 columns]"
            ]
          },
          "metadata": {},
          "execution_count": 13
        }
      ]
    },
    {
      "cell_type": "markdown",
      "metadata": {
        "id": "Wz-5cDqacUvJ"
      },
      "source": [
        "Under-Sampling\n",
        "\n",
        "Build a sample dataset containing similar distribution of normal transactions and Fraudulent Transactions\n",
        "\n",
        "Number of Fraudulent Transactions --> 81"
      ]
    },
    {
      "cell_type": "code",
      "metadata": {
        "id": "0QJOHsZpcXNU"
      },
      "source": [
        "legit_sample = legit.sample(n=81)"
      ],
      "execution_count": 14,
      "outputs": []
    },
    {
      "cell_type": "markdown",
      "metadata": {
        "id": "NWv00fnpchC8"
      },
      "source": [
        "Concatenating two DataFrames"
      ]
    },
    {
      "cell_type": "code",
      "metadata": {
        "id": "S7h3EYUaciAP"
      },
      "source": [
        "new_dataset = pd.concat([legit_sample, fraud], axis=0)"
      ],
      "execution_count": 15,
      "outputs": []
    },
    {
      "cell_type": "code",
      "metadata": {
        "colab": {
          "base_uri": "https://localhost:8080/",
          "height": 223
        },
        "id": "20uVyR0HcoLt",
        "outputId": "691a3431-6ffd-44b9-f941-9d8ed144ccaa"
      },
      "source": [
        "new_dataset.head()"
      ],
      "execution_count": 16,
      "outputs": [
        {
          "output_type": "execute_result",
          "data": {
            "text/html": [
              "<div>\n",
              "<style scoped>\n",
              "    .dataframe tbody tr th:only-of-type {\n",
              "        vertical-align: middle;\n",
              "    }\n",
              "\n",
              "    .dataframe tbody tr th {\n",
              "        vertical-align: top;\n",
              "    }\n",
              "\n",
              "    .dataframe thead th {\n",
              "        text-align: right;\n",
              "    }\n",
              "</style>\n",
              "<table border=\"1\" class=\"dataframe\">\n",
              "  <thead>\n",
              "    <tr style=\"text-align: right;\">\n",
              "      <th></th>\n",
              "      <th>Time</th>\n",
              "      <th>V1</th>\n",
              "      <th>V2</th>\n",
              "      <th>V3</th>\n",
              "      <th>V4</th>\n",
              "      <th>V5</th>\n",
              "      <th>V6</th>\n",
              "      <th>V7</th>\n",
              "      <th>V8</th>\n",
              "      <th>V9</th>\n",
              "      <th>V10</th>\n",
              "      <th>V11</th>\n",
              "      <th>V12</th>\n",
              "      <th>V13</th>\n",
              "      <th>V14</th>\n",
              "      <th>V15</th>\n",
              "      <th>V16</th>\n",
              "      <th>V17</th>\n",
              "      <th>V18</th>\n",
              "      <th>V19</th>\n",
              "      <th>V20</th>\n",
              "      <th>V21</th>\n",
              "      <th>V22</th>\n",
              "      <th>V23</th>\n",
              "      <th>V24</th>\n",
              "      <th>V25</th>\n",
              "      <th>V26</th>\n",
              "      <th>V27</th>\n",
              "      <th>V28</th>\n",
              "      <th>Amount</th>\n",
              "      <th>Class</th>\n",
              "    </tr>\n",
              "  </thead>\n",
              "  <tbody>\n",
              "    <tr>\n",
              "      <th>9523</th>\n",
              "      <td>14210</td>\n",
              "      <td>1.304508</td>\n",
              "      <td>0.012626</td>\n",
              "      <td>0.379380</td>\n",
              "      <td>-0.119518</td>\n",
              "      <td>-0.059289</td>\n",
              "      <td>0.202490</td>\n",
              "      <td>-0.476317</td>\n",
              "      <td>0.006686</td>\n",
              "      <td>1.445606</td>\n",
              "      <td>-0.379275</td>\n",
              "      <td>1.315122</td>\n",
              "      <td>-1.833844</td>\n",
              "      <td>2.291989</td>\n",
              "      <td>1.566681</td>\n",
              "      <td>-0.105253</td>\n",
              "      <td>1.066439</td>\n",
              "      <td>-0.428515</td>\n",
              "      <td>0.722562</td>\n",
              "      <td>0.532076</td>\n",
              "      <td>-0.017522</td>\n",
              "      <td>-0.371258</td>\n",
              "      <td>-0.858712</td>\n",
              "      <td>-0.014121</td>\n",
              "      <td>-0.974645</td>\n",
              "      <td>0.140000</td>\n",
              "      <td>0.810990</td>\n",
              "      <td>-0.093266</td>\n",
              "      <td>-0.013241</td>\n",
              "      <td>10.07</td>\n",
              "      <td>0.0</td>\n",
              "    </tr>\n",
              "    <tr>\n",
              "      <th>9864</th>\n",
              "      <td>14537</td>\n",
              "      <td>1.138315</td>\n",
              "      <td>-0.240129</td>\n",
              "      <td>1.437573</td>\n",
              "      <td>0.465644</td>\n",
              "      <td>-1.160277</td>\n",
              "      <td>-0.166390</td>\n",
              "      <td>-0.843793</td>\n",
              "      <td>0.084684</td>\n",
              "      <td>1.990782</td>\n",
              "      <td>-0.540387</td>\n",
              "      <td>2.210664</td>\n",
              "      <td>-1.172572</td>\n",
              "      <td>1.859792</td>\n",
              "      <td>1.142375</td>\n",
              "      <td>-1.229226</td>\n",
              "      <td>0.296517</td>\n",
              "      <td>0.445874</td>\n",
              "      <td>0.282964</td>\n",
              "      <td>0.167010</td>\n",
              "      <td>-0.070403</td>\n",
              "      <td>-0.193643</td>\n",
              "      <td>-0.167125</td>\n",
              "      <td>0.073630</td>\n",
              "      <td>0.554375</td>\n",
              "      <td>0.040756</td>\n",
              "      <td>0.887890</td>\n",
              "      <td>-0.062157</td>\n",
              "      <td>0.004909</td>\n",
              "      <td>18.11</td>\n",
              "      <td>0.0</td>\n",
              "    </tr>\n",
              "    <tr>\n",
              "      <th>2266</th>\n",
              "      <td>1810</td>\n",
              "      <td>-1.437818</td>\n",
              "      <td>1.596102</td>\n",
              "      <td>0.933307</td>\n",
              "      <td>-0.073344</td>\n",
              "      <td>-0.177388</td>\n",
              "      <td>-0.867138</td>\n",
              "      <td>0.501580</td>\n",
              "      <td>0.422381</td>\n",
              "      <td>-0.418939</td>\n",
              "      <td>0.014686</td>\n",
              "      <td>0.081677</td>\n",
              "      <td>0.487803</td>\n",
              "      <td>0.168018</td>\n",
              "      <td>0.468261</td>\n",
              "      <td>0.855740</td>\n",
              "      <td>-0.253558</td>\n",
              "      <td>0.227146</td>\n",
              "      <td>-1.274632</td>\n",
              "      <td>-0.310218</td>\n",
              "      <td>0.209707</td>\n",
              "      <td>-0.415869</td>\n",
              "      <td>-1.130850</td>\n",
              "      <td>0.230632</td>\n",
              "      <td>0.349254</td>\n",
              "      <td>-0.463737</td>\n",
              "      <td>-0.155975</td>\n",
              "      <td>0.422684</td>\n",
              "      <td>0.253025</td>\n",
              "      <td>10.78</td>\n",
              "      <td>0.0</td>\n",
              "    </tr>\n",
              "    <tr>\n",
              "      <th>12489</th>\n",
              "      <td>21875</td>\n",
              "      <td>-0.735799</td>\n",
              "      <td>-0.756565</td>\n",
              "      <td>1.817059</td>\n",
              "      <td>-2.343351</td>\n",
              "      <td>-1.154450</td>\n",
              "      <td>-0.964382</td>\n",
              "      <td>-0.076478</td>\n",
              "      <td>-0.198702</td>\n",
              "      <td>1.602727</td>\n",
              "      <td>-1.524285</td>\n",
              "      <td>0.344857</td>\n",
              "      <td>-2.382604</td>\n",
              "      <td>1.617829</td>\n",
              "      <td>1.376325</td>\n",
              "      <td>1.002277</td>\n",
              "      <td>-3.105290</td>\n",
              "      <td>1.532308</td>\n",
              "      <td>2.086617</td>\n",
              "      <td>1.393516</td>\n",
              "      <td>-0.000706</td>\n",
              "      <td>-0.352723</td>\n",
              "      <td>-0.336850</td>\n",
              "      <td>0.034177</td>\n",
              "      <td>0.308526</td>\n",
              "      <td>0.437966</td>\n",
              "      <td>-0.593838</td>\n",
              "      <td>0.094665</td>\n",
              "      <td>0.095725</td>\n",
              "      <td>119.98</td>\n",
              "      <td>0.0</td>\n",
              "    </tr>\n",
              "    <tr>\n",
              "      <th>8059</th>\n",
              "      <td>11006</td>\n",
              "      <td>-1.669155</td>\n",
              "      <td>1.274485</td>\n",
              "      <td>-0.909782</td>\n",
              "      <td>-0.201197</td>\n",
              "      <td>2.940372</td>\n",
              "      <td>3.177675</td>\n",
              "      <td>0.089710</td>\n",
              "      <td>0.630292</td>\n",
              "      <td>1.362083</td>\n",
              "      <td>1.011121</td>\n",
              "      <td>0.782625</td>\n",
              "      <td>-2.750534</td>\n",
              "      <td>1.587114</td>\n",
              "      <td>1.635548</td>\n",
              "      <td>0.444371</td>\n",
              "      <td>-0.227773</td>\n",
              "      <td>0.045166</td>\n",
              "      <td>0.575497</td>\n",
              "      <td>0.613439</td>\n",
              "      <td>0.300013</td>\n",
              "      <td>-0.278845</td>\n",
              "      <td>-0.229555</td>\n",
              "      <td>-0.148068</td>\n",
              "      <td>0.943047</td>\n",
              "      <td>0.087189</td>\n",
              "      <td>-0.393307</td>\n",
              "      <td>0.295081</td>\n",
              "      <td>0.603495</td>\n",
              "      <td>14.15</td>\n",
              "      <td>0.0</td>\n",
              "    </tr>\n",
              "  </tbody>\n",
              "</table>\n",
              "</div>"
            ],
            "text/plain": [
              "        Time        V1        V2        V3  ...       V27       V28  Amount  Class\n",
              "9523   14210  1.304508  0.012626  0.379380  ... -0.093266 -0.013241   10.07    0.0\n",
              "9864   14537  1.138315 -0.240129  1.437573  ... -0.062157  0.004909   18.11    0.0\n",
              "2266    1810 -1.437818  1.596102  0.933307  ...  0.422684  0.253025   10.78    0.0\n",
              "12489  21875 -0.735799 -0.756565  1.817059  ...  0.094665  0.095725  119.98    0.0\n",
              "8059   11006 -1.669155  1.274485 -0.909782  ...  0.295081  0.603495   14.15    0.0\n",
              "\n",
              "[5 rows x 31 columns]"
            ]
          },
          "metadata": {},
          "execution_count": 16
        }
      ]
    },
    {
      "cell_type": "code",
      "metadata": {
        "colab": {
          "base_uri": "https://localhost:8080/",
          "height": 223
        },
        "id": "ClwJVzxYcsft",
        "outputId": "2df582de-9de6-42f3-c777-0cd303498756"
      },
      "source": [
        "new_dataset.tail()"
      ],
      "execution_count": 17,
      "outputs": [
        {
          "output_type": "execute_result",
          "data": {
            "text/html": [
              "<div>\n",
              "<style scoped>\n",
              "    .dataframe tbody tr th:only-of-type {\n",
              "        vertical-align: middle;\n",
              "    }\n",
              "\n",
              "    .dataframe tbody tr th {\n",
              "        vertical-align: top;\n",
              "    }\n",
              "\n",
              "    .dataframe thead th {\n",
              "        text-align: right;\n",
              "    }\n",
              "</style>\n",
              "<table border=\"1\" class=\"dataframe\">\n",
              "  <thead>\n",
              "    <tr style=\"text-align: right;\">\n",
              "      <th></th>\n",
              "      <th>Time</th>\n",
              "      <th>V1</th>\n",
              "      <th>V2</th>\n",
              "      <th>V3</th>\n",
              "      <th>V4</th>\n",
              "      <th>V5</th>\n",
              "      <th>V6</th>\n",
              "      <th>V7</th>\n",
              "      <th>V8</th>\n",
              "      <th>V9</th>\n",
              "      <th>V10</th>\n",
              "      <th>V11</th>\n",
              "      <th>V12</th>\n",
              "      <th>V13</th>\n",
              "      <th>V14</th>\n",
              "      <th>V15</th>\n",
              "      <th>V16</th>\n",
              "      <th>V17</th>\n",
              "      <th>V18</th>\n",
              "      <th>V19</th>\n",
              "      <th>V20</th>\n",
              "      <th>V21</th>\n",
              "      <th>V22</th>\n",
              "      <th>V23</th>\n",
              "      <th>V24</th>\n",
              "      <th>V25</th>\n",
              "      <th>V26</th>\n",
              "      <th>V27</th>\n",
              "      <th>V28</th>\n",
              "      <th>Amount</th>\n",
              "      <th>Class</th>\n",
              "    </tr>\n",
              "  </thead>\n",
              "  <tbody>\n",
              "    <tr>\n",
              "      <th>17317</th>\n",
              "      <td>28625</td>\n",
              "      <td>-27.848181</td>\n",
              "      <td>15.598193</td>\n",
              "      <td>-28.923756</td>\n",
              "      <td>6.418442</td>\n",
              "      <td>-20.346228</td>\n",
              "      <td>-4.828202</td>\n",
              "      <td>-19.210896</td>\n",
              "      <td>18.329406</td>\n",
              "      <td>-3.668735</td>\n",
              "      <td>-8.009159</td>\n",
              "      <td>4.303096</td>\n",
              "      <td>-6.008660</td>\n",
              "      <td>1.138969</td>\n",
              "      <td>-5.580447</td>\n",
              "      <td>-0.110737</td>\n",
              "      <td>-5.491073</td>\n",
              "      <td>-11.588544</td>\n",
              "      <td>-4.715420</td>\n",
              "      <td>0.734573</td>\n",
              "      <td>1.697856</td>\n",
              "      <td>1.802149</td>\n",
              "      <td>-2.062934</td>\n",
              "      <td>-1.269843</td>\n",
              "      <td>0.165409</td>\n",
              "      <td>1.999499</td>\n",
              "      <td>-0.211059</td>\n",
              "      <td>1.324809</td>\n",
              "      <td>0.388090</td>\n",
              "      <td>99.99</td>\n",
              "      <td>1.0</td>\n",
              "    </tr>\n",
              "    <tr>\n",
              "      <th>17366</th>\n",
              "      <td>28658</td>\n",
              "      <td>-28.524268</td>\n",
              "      <td>15.876923</td>\n",
              "      <td>-29.468732</td>\n",
              "      <td>6.447591</td>\n",
              "      <td>-20.786000</td>\n",
              "      <td>-4.865613</td>\n",
              "      <td>-19.501084</td>\n",
              "      <td>18.748872</td>\n",
              "      <td>-3.642990</td>\n",
              "      <td>-7.939642</td>\n",
              "      <td>4.184674</td>\n",
              "      <td>-5.835075</td>\n",
              "      <td>1.215960</td>\n",
              "      <td>-5.330144</td>\n",
              "      <td>-0.118631</td>\n",
              "      <td>-5.367775</td>\n",
              "      <td>-11.431757</td>\n",
              "      <td>-4.696924</td>\n",
              "      <td>0.692688</td>\n",
              "      <td>1.706889</td>\n",
              "      <td>1.805770</td>\n",
              "      <td>-2.119376</td>\n",
              "      <td>-1.317450</td>\n",
              "      <td>0.169846</td>\n",
              "      <td>2.051687</td>\n",
              "      <td>-0.210502</td>\n",
              "      <td>1.301734</td>\n",
              "      <td>0.380246</td>\n",
              "      <td>99.99</td>\n",
              "      <td>1.0</td>\n",
              "    </tr>\n",
              "    <tr>\n",
              "      <th>17407</th>\n",
              "      <td>28692</td>\n",
              "      <td>-29.200329</td>\n",
              "      <td>16.155701</td>\n",
              "      <td>-30.013712</td>\n",
              "      <td>6.476731</td>\n",
              "      <td>-21.225810</td>\n",
              "      <td>-4.902997</td>\n",
              "      <td>-19.791248</td>\n",
              "      <td>19.168327</td>\n",
              "      <td>-3.617242</td>\n",
              "      <td>-7.870122</td>\n",
              "      <td>4.066255</td>\n",
              "      <td>-5.661492</td>\n",
              "      <td>1.292950</td>\n",
              "      <td>-5.079846</td>\n",
              "      <td>-0.126523</td>\n",
              "      <td>-5.244472</td>\n",
              "      <td>-11.274973</td>\n",
              "      <td>-4.678437</td>\n",
              "      <td>0.650807</td>\n",
              "      <td>1.715862</td>\n",
              "      <td>1.809371</td>\n",
              "      <td>-2.175815</td>\n",
              "      <td>-1.365104</td>\n",
              "      <td>0.174286</td>\n",
              "      <td>2.103868</td>\n",
              "      <td>-0.209944</td>\n",
              "      <td>1.278681</td>\n",
              "      <td>0.372393</td>\n",
              "      <td>99.99</td>\n",
              "      <td>1.0</td>\n",
              "    </tr>\n",
              "    <tr>\n",
              "      <th>17453</th>\n",
              "      <td>28726</td>\n",
              "      <td>-29.876366</td>\n",
              "      <td>16.434525</td>\n",
              "      <td>-30.558697</td>\n",
              "      <td>6.505862</td>\n",
              "      <td>-21.665654</td>\n",
              "      <td>-4.940356</td>\n",
              "      <td>-20.081391</td>\n",
              "      <td>19.587773</td>\n",
              "      <td>-3.591491</td>\n",
              "      <td>-7.800598</td>\n",
              "      <td>3.947840</td>\n",
              "      <td>-5.487911</td>\n",
              "      <td>1.369940</td>\n",
              "      <td>-4.829552</td>\n",
              "      <td>-0.134412</td>\n",
              "      <td>-5.121162</td>\n",
              "      <td>-11.118190</td>\n",
              "      <td>-4.659956</td>\n",
              "      <td>0.608930</td>\n",
              "      <td>1.724779</td>\n",
              "      <td>1.812954</td>\n",
              "      <td>-2.232252</td>\n",
              "      <td>-1.412803</td>\n",
              "      <td>0.178731</td>\n",
              "      <td>2.156042</td>\n",
              "      <td>-0.209385</td>\n",
              "      <td>1.255649</td>\n",
              "      <td>0.364530</td>\n",
              "      <td>99.99</td>\n",
              "      <td>1.0</td>\n",
              "    </tr>\n",
              "    <tr>\n",
              "      <th>17480</th>\n",
              "      <td>28755</td>\n",
              "      <td>-30.552380</td>\n",
              "      <td>16.713389</td>\n",
              "      <td>-31.103685</td>\n",
              "      <td>6.534984</td>\n",
              "      <td>-22.105532</td>\n",
              "      <td>-4.977692</td>\n",
              "      <td>-20.371514</td>\n",
              "      <td>20.007208</td>\n",
              "      <td>-3.565738</td>\n",
              "      <td>-7.731071</td>\n",
              "      <td>3.829427</td>\n",
              "      <td>-5.314332</td>\n",
              "      <td>1.446930</td>\n",
              "      <td>-4.579264</td>\n",
              "      <td>-0.142299</td>\n",
              "      <td>-4.997848</td>\n",
              "      <td>-10.961410</td>\n",
              "      <td>-4.641482</td>\n",
              "      <td>0.567056</td>\n",
              "      <td>1.733644</td>\n",
              "      <td>1.816520</td>\n",
              "      <td>-2.288686</td>\n",
              "      <td>-1.460544</td>\n",
              "      <td>0.183179</td>\n",
              "      <td>2.208209</td>\n",
              "      <td>-0.208824</td>\n",
              "      <td>1.232636</td>\n",
              "      <td>0.356660</td>\n",
              "      <td>99.99</td>\n",
              "      <td>1.0</td>\n",
              "    </tr>\n",
              "  </tbody>\n",
              "</table>\n",
              "</div>"
            ],
            "text/plain": [
              "        Time         V1         V2  ...       V28  Amount  Class\n",
              "17317  28625 -27.848181  15.598193  ...  0.388090   99.99    1.0\n",
              "17366  28658 -28.524268  15.876923  ...  0.380246   99.99    1.0\n",
              "17407  28692 -29.200329  16.155701  ...  0.372393   99.99    1.0\n",
              "17453  28726 -29.876366  16.434525  ...  0.364530   99.99    1.0\n",
              "17480  28755 -30.552380  16.713389  ...  0.356660   99.99    1.0\n",
              "\n",
              "[5 rows x 31 columns]"
            ]
          },
          "metadata": {},
          "execution_count": 17
        }
      ]
    },
    {
      "cell_type": "code",
      "metadata": {
        "colab": {
          "base_uri": "https://localhost:8080/"
        },
        "id": "OwzSq-COcw09",
        "outputId": "7db177b9-9a0d-40d7-b597-d50b662188b1"
      },
      "source": [
        "new_dataset['Class'].value_counts()"
      ],
      "execution_count": 18,
      "outputs": [
        {
          "output_type": "execute_result",
          "data": {
            "text/plain": [
              "1.0    81\n",
              "0.0    81\n",
              "Name: Class, dtype: int64"
            ]
          },
          "metadata": {},
          "execution_count": 18
        }
      ]
    },
    {
      "cell_type": "code",
      "metadata": {
        "colab": {
          "base_uri": "https://localhost:8080/",
          "height": 162
        },
        "id": "ShPKsim4c1qd",
        "outputId": "77c373dc-bb83-4039-c0ac-eaf460ef818d"
      },
      "source": [
        "new_dataset.groupby('Class').mean()"
      ],
      "execution_count": 19,
      "outputs": [
        {
          "output_type": "execute_result",
          "data": {
            "text/html": [
              "<div>\n",
              "<style scoped>\n",
              "    .dataframe tbody tr th:only-of-type {\n",
              "        vertical-align: middle;\n",
              "    }\n",
              "\n",
              "    .dataframe tbody tr th {\n",
              "        vertical-align: top;\n",
              "    }\n",
              "\n",
              "    .dataframe thead th {\n",
              "        text-align: right;\n",
              "    }\n",
              "</style>\n",
              "<table border=\"1\" class=\"dataframe\">\n",
              "  <thead>\n",
              "    <tr style=\"text-align: right;\">\n",
              "      <th></th>\n",
              "      <th>Time</th>\n",
              "      <th>V1</th>\n",
              "      <th>V2</th>\n",
              "      <th>V3</th>\n",
              "      <th>V4</th>\n",
              "      <th>V5</th>\n",
              "      <th>V6</th>\n",
              "      <th>V7</th>\n",
              "      <th>V8</th>\n",
              "      <th>V9</th>\n",
              "      <th>V10</th>\n",
              "      <th>V11</th>\n",
              "      <th>V12</th>\n",
              "      <th>V13</th>\n",
              "      <th>V14</th>\n",
              "      <th>V15</th>\n",
              "      <th>V16</th>\n",
              "      <th>V17</th>\n",
              "      <th>V18</th>\n",
              "      <th>V19</th>\n",
              "      <th>V20</th>\n",
              "      <th>V21</th>\n",
              "      <th>V22</th>\n",
              "      <th>V23</th>\n",
              "      <th>V24</th>\n",
              "      <th>V25</th>\n",
              "      <th>V26</th>\n",
              "      <th>V27</th>\n",
              "      <th>V28</th>\n",
              "      <th>Amount</th>\n",
              "    </tr>\n",
              "    <tr>\n",
              "      <th>Class</th>\n",
              "      <th></th>\n",
              "      <th></th>\n",
              "      <th></th>\n",
              "      <th></th>\n",
              "      <th></th>\n",
              "      <th></th>\n",
              "      <th></th>\n",
              "      <th></th>\n",
              "      <th></th>\n",
              "      <th></th>\n",
              "      <th></th>\n",
              "      <th></th>\n",
              "      <th></th>\n",
              "      <th></th>\n",
              "      <th></th>\n",
              "      <th></th>\n",
              "      <th></th>\n",
              "      <th></th>\n",
              "      <th></th>\n",
              "      <th></th>\n",
              "      <th></th>\n",
              "      <th></th>\n",
              "      <th></th>\n",
              "      <th></th>\n",
              "      <th></th>\n",
              "      <th></th>\n",
              "      <th></th>\n",
              "      <th></th>\n",
              "      <th></th>\n",
              "      <th></th>\n",
              "    </tr>\n",
              "  </thead>\n",
              "  <tbody>\n",
              "    <tr>\n",
              "      <th>0.0</th>\n",
              "      <td>14985.111111</td>\n",
              "      <td>0.007009</td>\n",
              "      <td>0.373252</td>\n",
              "      <td>0.853733</td>\n",
              "      <td>0.288314</td>\n",
              "      <td>-0.156894</td>\n",
              "      <td>0.095745</td>\n",
              "      <td>-0.143337</td>\n",
              "      <td>-0.129707</td>\n",
              "      <td>0.895332</td>\n",
              "      <td>-0.249366</td>\n",
              "      <td>0.782098</td>\n",
              "      <td>-1.318081</td>\n",
              "      <td>1.088745</td>\n",
              "      <td>0.811220</td>\n",
              "      <td>-0.197830</td>\n",
              "      <td>0.045458</td>\n",
              "      <td>0.426694</td>\n",
              "      <td>-0.010242</td>\n",
              "      <td>-0.093019</td>\n",
              "      <td>-0.020933</td>\n",
              "      <td>0.034954</td>\n",
              "      <td>-0.171059</td>\n",
              "      <td>-0.012624</td>\n",
              "      <td>-0.039382</td>\n",
              "      <td>0.089227</td>\n",
              "      <td>0.079749</td>\n",
              "      <td>-0.003760</td>\n",
              "      <td>0.035715</td>\n",
              "      <td>49.013951</td>\n",
              "    </tr>\n",
              "    <tr>\n",
              "      <th>1.0</th>\n",
              "      <td>16833.074074</td>\n",
              "      <td>-9.315066</td>\n",
              "      <td>6.779465</td>\n",
              "      <td>-13.052870</td>\n",
              "      <td>6.451318</td>\n",
              "      <td>-6.557541</td>\n",
              "      <td>-2.602613</td>\n",
              "      <td>-9.012856</td>\n",
              "      <td>4.730365</td>\n",
              "      <td>-3.087651</td>\n",
              "      <td>-7.499402</td>\n",
              "      <td>6.173253</td>\n",
              "      <td>-9.366936</td>\n",
              "      <td>0.530956</td>\n",
              "      <td>-8.907345</td>\n",
              "      <td>-0.187449</td>\n",
              "      <td>-5.282956</td>\n",
              "      <td>-8.522760</td>\n",
              "      <td>-3.021430</td>\n",
              "      <td>0.395198</td>\n",
              "      <td>0.756424</td>\n",
              "      <td>0.549752</td>\n",
              "      <td>-0.423495</td>\n",
              "      <td>-0.398104</td>\n",
              "      <td>-0.277836</td>\n",
              "      <td>0.355688</td>\n",
              "      <td>0.177616</td>\n",
              "      <td>0.940693</td>\n",
              "      <td>0.090007</td>\n",
              "      <td>98.105926</td>\n",
              "    </tr>\n",
              "  </tbody>\n",
              "</table>\n",
              "</div>"
            ],
            "text/plain": [
              "               Time        V1        V2  ...       V27       V28     Amount\n",
              "Class                                    ...                               \n",
              "0.0    14985.111111  0.007009  0.373252  ... -0.003760  0.035715  49.013951\n",
              "1.0    16833.074074 -9.315066  6.779465  ...  0.940693  0.090007  98.105926\n",
              "\n",
              "[2 rows x 30 columns]"
            ]
          },
          "metadata": {},
          "execution_count": 19
        }
      ]
    },
    {
      "cell_type": "markdown",
      "metadata": {
        "id": "BNZBH4GAdFvX"
      },
      "source": [
        "Splitting the data into Features & Targets"
      ]
    },
    {
      "cell_type": "code",
      "metadata": {
        "id": "-UCmq16jdG06"
      },
      "source": [
        "X = new_dataset.drop(columns='Class', axis=1)\n",
        "Y = new_dataset['Class']"
      ],
      "execution_count": 20,
      "outputs": []
    },
    {
      "cell_type": "code",
      "metadata": {
        "colab": {
          "base_uri": "https://localhost:8080/"
        },
        "id": "pmloTw-gdOg4",
        "outputId": "db8d2327-8820-4a18-9a50-b4f7820069a1"
      },
      "source": [
        "print(X)"
      ],
      "execution_count": 21,
      "outputs": [
        {
          "output_type": "stream",
          "name": "stdout",
          "text": [
            "        Time         V1         V2  ...       V27       V28  Amount\n",
            "9523   14210   1.304508   0.012626  ... -0.093266 -0.013241   10.07\n",
            "9864   14537   1.138315  -0.240129  ... -0.062157  0.004909   18.11\n",
            "2266    1810  -1.437818   1.596102  ...  0.422684  0.253025   10.78\n",
            "12489  21875  -0.735799  -0.756565  ...  0.094665  0.095725  119.98\n",
            "8059   11006  -1.669155   1.274485  ...  0.295081  0.603495   14.15\n",
            "...      ...        ...        ...  ...       ...       ...     ...\n",
            "17317  28625 -27.848181  15.598193  ...  1.324809  0.388090   99.99\n",
            "17366  28658 -28.524268  15.876923  ...  1.301734  0.380246   99.99\n",
            "17407  28692 -29.200329  16.155701  ...  1.278681  0.372393   99.99\n",
            "17453  28726 -29.876366  16.434525  ...  1.255649  0.364530   99.99\n",
            "17480  28755 -30.552380  16.713389  ...  1.232636  0.356660   99.99\n",
            "\n",
            "[162 rows x 30 columns]\n"
          ]
        }
      ]
    },
    {
      "cell_type": "code",
      "metadata": {
        "colab": {
          "base_uri": "https://localhost:8080/"
        },
        "id": "2bpz23W6dVDe",
        "outputId": "8ca17be5-91fc-4734-ba05-fec08564e536"
      },
      "source": [
        "print(Y)"
      ],
      "execution_count": 22,
      "outputs": [
        {
          "output_type": "stream",
          "name": "stdout",
          "text": [
            "9523     0.0\n",
            "9864     0.0\n",
            "2266     0.0\n",
            "12489    0.0\n",
            "8059     0.0\n",
            "        ... \n",
            "17317    1.0\n",
            "17366    1.0\n",
            "17407    1.0\n",
            "17453    1.0\n",
            "17480    1.0\n",
            "Name: Class, Length: 162, dtype: float64\n"
          ]
        }
      ]
    },
    {
      "cell_type": "markdown",
      "metadata": {
        "id": "CEhh860BdgkU"
      },
      "source": [
        "Split the data into Training data & Testing Data"
      ]
    },
    {
      "cell_type": "code",
      "metadata": {
        "id": "Ke7pMLoydiZu"
      },
      "source": [
        "X_train, X_test, Y_train, Y_test = train_test_split(X, Y, test_size=0.2, stratify=Y, random_state=2)"
      ],
      "execution_count": 23,
      "outputs": []
    },
    {
      "cell_type": "code",
      "metadata": {
        "colab": {
          "base_uri": "https://localhost:8080/"
        },
        "id": "6ROwN8-Gdss5",
        "outputId": "21883565-8f0a-4e58-9bee-db7e6b1a4486"
      },
      "source": [
        "print(X.shape, X_train.shape, X_test.shape)"
      ],
      "execution_count": 24,
      "outputs": [
        {
          "output_type": "stream",
          "name": "stdout",
          "text": [
            "(162, 30) (129, 30) (33, 30)\n"
          ]
        }
      ]
    },
    {
      "cell_type": "markdown",
      "metadata": {
        "id": "mS1fbd-QdxnM"
      },
      "source": [
        "Model Training\n",
        "\n",
        "Logistic Regression"
      ]
    },
    {
      "cell_type": "code",
      "metadata": {
        "id": "SELcEIvWdykr"
      },
      "source": [
        "model = LogisticRegression()"
      ],
      "execution_count": 25,
      "outputs": []
    },
    {
      "cell_type": "code",
      "metadata": {
        "colab": {
          "base_uri": "https://localhost:8080/"
        },
        "id": "N5nZAg34d-P4",
        "outputId": "2ff532bc-b221-4f22-e3ed-08734d8f34f9"
      },
      "source": [
        "# training the Logistic Regression Model with Training Data\n",
        "model.fit(X_train, Y_train)"
      ],
      "execution_count": 26,
      "outputs": [
        {
          "output_type": "stream",
          "name": "stderr",
          "text": [
            "/usr/local/lib/python3.7/dist-packages/sklearn/linear_model/_logistic.py:940: ConvergenceWarning: lbfgs failed to converge (status=1):\n",
            "STOP: TOTAL NO. of ITERATIONS REACHED LIMIT.\n",
            "\n",
            "Increase the number of iterations (max_iter) or scale the data as shown in:\n",
            "    https://scikit-learn.org/stable/modules/preprocessing.html\n",
            "Please also refer to the documentation for alternative solver options:\n",
            "    https://scikit-learn.org/stable/modules/linear_model.html#logistic-regression\n",
            "  extra_warning_msg=_LOGISTIC_SOLVER_CONVERGENCE_MSG)\n"
          ]
        },
        {
          "output_type": "execute_result",
          "data": {
            "text/plain": [
              "LogisticRegression(C=1.0, class_weight=None, dual=False, fit_intercept=True,\n",
              "                   intercept_scaling=1, l1_ratio=None, max_iter=100,\n",
              "                   multi_class='auto', n_jobs=None, penalty='l2',\n",
              "                   random_state=None, solver='lbfgs', tol=0.0001, verbose=0,\n",
              "                   warm_start=False)"
            ]
          },
          "metadata": {},
          "execution_count": 26
        }
      ]
    },
    {
      "cell_type": "markdown",
      "metadata": {
        "id": "ovu1TVfHeC1E"
      },
      "source": [
        "Model Evaluation\n",
        "\n",
        "Accuracy Score"
      ]
    },
    {
      "cell_type": "code",
      "metadata": {
        "id": "ltpVnOe4eEDd"
      },
      "source": [
        "# accuracy on training data\n",
        "X_train_prediction = model.predict(X_train)\n",
        "training_data_accuracy = accuracy_score(X_train_prediction, Y_train)"
      ],
      "execution_count": 27,
      "outputs": []
    },
    {
      "cell_type": "code",
      "metadata": {
        "colab": {
          "base_uri": "https://localhost:8080/"
        },
        "id": "ykdmvSCOeKKz",
        "outputId": "af543696-a8bf-4650-860b-73ffa182ee18"
      },
      "source": [
        "print('Accuracy on Training data : ', training_data_accuracy)"
      ],
      "execution_count": 28,
      "outputs": [
        {
          "output_type": "stream",
          "name": "stdout",
          "text": [
            "Accuracy on Training data :  0.9922480620155039\n"
          ]
        }
      ]
    },
    {
      "cell_type": "code",
      "metadata": {
        "id": "3CSldDlIeOWh"
      },
      "source": [
        "# accuracy on test data\n",
        "X_test_prediction = model.predict(X_test)\n",
        "test_data_accuracy = accuracy_score(X_test_prediction, Y_test)"
      ],
      "execution_count": 29,
      "outputs": []
    },
    {
      "cell_type": "code",
      "metadata": {
        "colab": {
          "base_uri": "https://localhost:8080/"
        },
        "id": "vbH7wnn9eTYs",
        "outputId": "312680f4-c22c-40d9-eeee-be176f695142"
      },
      "source": [
        "print('Accuracy score on Test Data : ', test_data_accuracy)"
      ],
      "execution_count": 30,
      "outputs": [
        {
          "output_type": "stream",
          "name": "stdout",
          "text": [
            "Accuracy score on Test Data :  0.9090909090909091\n"
          ]
        }
      ]
    }
  ]
}